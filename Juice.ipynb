{
 "cells": [
  {
   "cell_type": "code",
   "execution_count": 91,
   "id": "c5848a76",
   "metadata": {},
   "outputs": [],
   "source": [
    "import pandas as pd\n",
    "import numpy as np\n",
    "import seaborn as sns\n",
    "import matplotlib.pyplot as plt"
   ]
  },
  {
   "cell_type": "code",
   "execution_count": 92,
   "id": "c267c957",
   "metadata": {},
   "outputs": [],
   "source": [
    "data=pd.read_csv(r\"C:\\Users\\Yash Agarwal\\Desktop\\juice dataset.csv\")"
   ]
  },
  {
   "cell_type": "code",
   "execution_count": 93,
   "id": "d5c5dd60",
   "metadata": {},
   "outputs": [
    {
     "data": {
      "text/html": [
       "<div>\n",
       "<style scoped>\n",
       "    .dataframe tbody tr th:only-of-type {\n",
       "        vertical-align: middle;\n",
       "    }\n",
       "\n",
       "    .dataframe tbody tr th {\n",
       "        vertical-align: top;\n",
       "    }\n",
       "\n",
       "    .dataframe thead th {\n",
       "        text-align: right;\n",
       "    }\n",
       "</style>\n",
       "<table border=\"1\" class=\"dataframe\">\n",
       "  <thead>\n",
       "    <tr style=\"text-align: right;\">\n",
       "      <th></th>\n",
       "      <th>Applied Voltage (kV)</th>\n",
       "      <th>Treatment Time (min)</th>\n",
       "      <th>PPO Inactivation (%)</th>\n",
       "      <th>POD Inactivation (%)</th>\n",
       "      <th>Yeast mould</th>\n",
       "      <th>TPC (log10 (CFU ml-1 ))</th>\n",
       "      <th>Vit. C Reduction (%)</th>\n",
       "      <th>TCD</th>\n",
       "      <th>TPHC (mg GAE 100 ml-1 Juice)</th>\n",
       "      <th>TFC (QE mg ml -1)</th>\n",
       "    </tr>\n",
       "  </thead>\n",
       "  <tbody>\n",
       "    <tr>\n",
       "      <th>0</th>\n",
       "      <td>30.0</td>\n",
       "      <td>5.0</td>\n",
       "      <td>5.45</td>\n",
       "      <td>6.37</td>\n",
       "      <td>5.92</td>\n",
       "      <td>7.65</td>\n",
       "      <td>2.29</td>\n",
       "      <td>2.399</td>\n",
       "      <td>223.75</td>\n",
       "      <td>0.121</td>\n",
       "    </tr>\n",
       "    <tr>\n",
       "      <th>1</th>\n",
       "      <td>45.0</td>\n",
       "      <td>5.0</td>\n",
       "      <td>10.43</td>\n",
       "      <td>13.47</td>\n",
       "      <td>5.73</td>\n",
       "      <td>5.85</td>\n",
       "      <td>3.46</td>\n",
       "      <td>2.914</td>\n",
       "      <td>224.38</td>\n",
       "      <td>0.124</td>\n",
       "    </tr>\n",
       "    <tr>\n",
       "      <th>2</th>\n",
       "      <td>30.0</td>\n",
       "      <td>20.0</td>\n",
       "      <td>16.77</td>\n",
       "      <td>17.98</td>\n",
       "      <td>4.37</td>\n",
       "      <td>4.59</td>\n",
       "      <td>4.49</td>\n",
       "      <td>2.975</td>\n",
       "      <td>234.76</td>\n",
       "      <td>0.139</td>\n",
       "    </tr>\n",
       "    <tr>\n",
       "      <th>3</th>\n",
       "      <td>45.0</td>\n",
       "      <td>20.0</td>\n",
       "      <td>39.78</td>\n",
       "      <td>49.47</td>\n",
       "      <td>2.69</td>\n",
       "      <td>3.29</td>\n",
       "      <td>6.47</td>\n",
       "      <td>4.578</td>\n",
       "      <td>245.08</td>\n",
       "      <td>0.166</td>\n",
       "    </tr>\n",
       "    <tr>\n",
       "      <th>4</th>\n",
       "      <td>27.0</td>\n",
       "      <td>12.5</td>\n",
       "      <td>8.32</td>\n",
       "      <td>7.54</td>\n",
       "      <td>5.01</td>\n",
       "      <td>5.23</td>\n",
       "      <td>2.43</td>\n",
       "      <td>2.598</td>\n",
       "      <td>228.67</td>\n",
       "      <td>0.127</td>\n",
       "    </tr>\n",
       "  </tbody>\n",
       "</table>\n",
       "</div>"
      ],
      "text/plain": [
       "   Applied Voltage (kV)  Treatment Time (min)  PPO Inactivation (%)  \\\n",
       "0                  30.0                   5.0                  5.45   \n",
       "1                  45.0                   5.0                 10.43   \n",
       "2                  30.0                  20.0                 16.77   \n",
       "3                  45.0                  20.0                 39.78   \n",
       "4                  27.0                  12.5                  8.32   \n",
       "\n",
       "   POD Inactivation (%)  Yeast mould  TPC (log10 (CFU ml-1 ))  \\\n",
       "0                  6.37         5.92                     7.65   \n",
       "1                 13.47         5.73                     5.85   \n",
       "2                 17.98         4.37                     4.59   \n",
       "3                 49.47         2.69                     3.29   \n",
       "4                  7.54         5.01                     5.23   \n",
       "\n",
       "   Vit. C Reduction (%)    TCD  TPHC (mg GAE 100 ml-1 Juice)  \\\n",
       "0                  2.29  2.399                        223.75   \n",
       "1                  3.46  2.914                        224.38   \n",
       "2                  4.49  2.975                        234.76   \n",
       "3                  6.47  4.578                        245.08   \n",
       "4                  2.43  2.598                        228.67   \n",
       "\n",
       "   TFC (QE mg ml -1)  \n",
       "0              0.121  \n",
       "1              0.124  \n",
       "2              0.139  \n",
       "3              0.166  \n",
       "4              0.127  "
      ]
     },
     "execution_count": 93,
     "metadata": {},
     "output_type": "execute_result"
    }
   ],
   "source": [
    "data.head()"
   ]
  },
  {
   "cell_type": "code",
   "execution_count": 94,
   "id": "0bb5ee31",
   "metadata": {},
   "outputs": [
    {
     "data": {
      "text/html": [
       "<div>\n",
       "<style scoped>\n",
       "    .dataframe tbody tr th:only-of-type {\n",
       "        vertical-align: middle;\n",
       "    }\n",
       "\n",
       "    .dataframe tbody tr th {\n",
       "        vertical-align: top;\n",
       "    }\n",
       "\n",
       "    .dataframe thead th {\n",
       "        text-align: right;\n",
       "    }\n",
       "</style>\n",
       "<table border=\"1\" class=\"dataframe\">\n",
       "  <thead>\n",
       "    <tr style=\"text-align: right;\">\n",
       "      <th></th>\n",
       "      <th>Applied Voltage (kV)</th>\n",
       "      <th>Treatment Time (min)</th>\n",
       "      <th>PPO Inactivation (%)</th>\n",
       "      <th>POD Inactivation (%)</th>\n",
       "      <th>Yeast mould</th>\n",
       "      <th>TPC (log10 (CFU ml-1 ))</th>\n",
       "      <th>Vit. C Reduction (%)</th>\n",
       "      <th>TCD</th>\n",
       "      <th>TPHC (mg GAE 100 ml-1 Juice)</th>\n",
       "      <th>TFC (QE mg ml -1)</th>\n",
       "    </tr>\n",
       "  </thead>\n",
       "  <tbody>\n",
       "    <tr>\n",
       "      <th>0</th>\n",
       "      <td>30.0</td>\n",
       "      <td>5.0</td>\n",
       "      <td>5.45</td>\n",
       "      <td>6.37</td>\n",
       "      <td>5.92</td>\n",
       "      <td>7.65</td>\n",
       "      <td>2.29</td>\n",
       "      <td>2.399</td>\n",
       "      <td>223.75</td>\n",
       "      <td>0.121</td>\n",
       "    </tr>\n",
       "    <tr>\n",
       "      <th>1</th>\n",
       "      <td>45.0</td>\n",
       "      <td>5.0</td>\n",
       "      <td>10.43</td>\n",
       "      <td>13.47</td>\n",
       "      <td>5.73</td>\n",
       "      <td>5.85</td>\n",
       "      <td>3.46</td>\n",
       "      <td>2.914</td>\n",
       "      <td>224.38</td>\n",
       "      <td>0.124</td>\n",
       "    </tr>\n",
       "    <tr>\n",
       "      <th>2</th>\n",
       "      <td>30.0</td>\n",
       "      <td>20.0</td>\n",
       "      <td>16.77</td>\n",
       "      <td>17.98</td>\n",
       "      <td>4.37</td>\n",
       "      <td>4.59</td>\n",
       "      <td>4.49</td>\n",
       "      <td>2.975</td>\n",
       "      <td>234.76</td>\n",
       "      <td>0.139</td>\n",
       "    </tr>\n",
       "    <tr>\n",
       "      <th>3</th>\n",
       "      <td>45.0</td>\n",
       "      <td>20.0</td>\n",
       "      <td>39.78</td>\n",
       "      <td>49.47</td>\n",
       "      <td>2.69</td>\n",
       "      <td>3.29</td>\n",
       "      <td>6.47</td>\n",
       "      <td>4.578</td>\n",
       "      <td>245.08</td>\n",
       "      <td>0.166</td>\n",
       "    </tr>\n",
       "    <tr>\n",
       "      <th>4</th>\n",
       "      <td>27.0</td>\n",
       "      <td>12.5</td>\n",
       "      <td>8.32</td>\n",
       "      <td>7.54</td>\n",
       "      <td>5.01</td>\n",
       "      <td>5.23</td>\n",
       "      <td>2.43</td>\n",
       "      <td>2.598</td>\n",
       "      <td>228.67</td>\n",
       "      <td>0.127</td>\n",
       "    </tr>\n",
       "    <tr>\n",
       "      <th>...</th>\n",
       "      <td>...</td>\n",
       "      <td>...</td>\n",
       "      <td>...</td>\n",
       "      <td>...</td>\n",
       "      <td>...</td>\n",
       "      <td>...</td>\n",
       "      <td>...</td>\n",
       "      <td>...</td>\n",
       "      <td>...</td>\n",
       "      <td>...</td>\n",
       "    </tr>\n",
       "    <tr>\n",
       "      <th>86</th>\n",
       "      <td>37.5</td>\n",
       "      <td>12.5</td>\n",
       "      <td>15.62</td>\n",
       "      <td>19.85</td>\n",
       "      <td>4.24</td>\n",
       "      <td>4.68</td>\n",
       "      <td>4.65</td>\n",
       "      <td>2.975</td>\n",
       "      <td>238.95</td>\n",
       "      <td>0.163</td>\n",
       "    </tr>\n",
       "    <tr>\n",
       "      <th>87</th>\n",
       "      <td>37.5</td>\n",
       "      <td>12.5</td>\n",
       "      <td>17.27</td>\n",
       "      <td>17.02</td>\n",
       "      <td>4.25</td>\n",
       "      <td>4.76</td>\n",
       "      <td>4.58</td>\n",
       "      <td>4.548</td>\n",
       "      <td>239.84</td>\n",
       "      <td>0.131</td>\n",
       "    </tr>\n",
       "    <tr>\n",
       "      <th>88</th>\n",
       "      <td>37.5</td>\n",
       "      <td>12.5</td>\n",
       "      <td>17.85</td>\n",
       "      <td>16.52</td>\n",
       "      <td>4.34</td>\n",
       "      <td>4.57</td>\n",
       "      <td>4.51</td>\n",
       "      <td>2.598</td>\n",
       "      <td>236.49</td>\n",
       "      <td>0.179</td>\n",
       "    </tr>\n",
       "    <tr>\n",
       "      <th>89</th>\n",
       "      <td>37.5</td>\n",
       "      <td>12.5</td>\n",
       "      <td>18.33</td>\n",
       "      <td>18.56</td>\n",
       "      <td>3.54</td>\n",
       "      <td>3.86</td>\n",
       "      <td>5.72</td>\n",
       "      <td>4.248</td>\n",
       "      <td>229.88</td>\n",
       "      <td>0.146</td>\n",
       "    </tr>\n",
       "    <tr>\n",
       "      <th>90</th>\n",
       "      <td>37.5</td>\n",
       "      <td>12.5</td>\n",
       "      <td>19.03</td>\n",
       "      <td>16.81</td>\n",
       "      <td>4.23</td>\n",
       "      <td>4.68</td>\n",
       "      <td>4.47</td>\n",
       "      <td>2.426</td>\n",
       "      <td>234.60</td>\n",
       "      <td>0.173</td>\n",
       "    </tr>\n",
       "  </tbody>\n",
       "</table>\n",
       "<p>91 rows × 10 columns</p>\n",
       "</div>"
      ],
      "text/plain": [
       "    Applied Voltage (kV)  Treatment Time (min)  PPO Inactivation (%)  \\\n",
       "0                   30.0                   5.0                  5.45   \n",
       "1                   45.0                   5.0                 10.43   \n",
       "2                   30.0                  20.0                 16.77   \n",
       "3                   45.0                  20.0                 39.78   \n",
       "4                   27.0                  12.5                  8.32   \n",
       "..                   ...                   ...                   ...   \n",
       "86                  37.5                  12.5                 15.62   \n",
       "87                  37.5                  12.5                 17.27   \n",
       "88                  37.5                  12.5                 17.85   \n",
       "89                  37.5                  12.5                 18.33   \n",
       "90                  37.5                  12.5                 19.03   \n",
       "\n",
       "    POD Inactivation (%)  Yeast mould  TPC (log10 (CFU ml-1 ))  \\\n",
       "0                   6.37         5.92                     7.65   \n",
       "1                  13.47         5.73                     5.85   \n",
       "2                  17.98         4.37                     4.59   \n",
       "3                  49.47         2.69                     3.29   \n",
       "4                   7.54         5.01                     5.23   \n",
       "..                   ...          ...                      ...   \n",
       "86                 19.85         4.24                     4.68   \n",
       "87                 17.02         4.25                     4.76   \n",
       "88                 16.52         4.34                     4.57   \n",
       "89                 18.56         3.54                     3.86   \n",
       "90                 16.81         4.23                     4.68   \n",
       "\n",
       "    Vit. C Reduction (%)    TCD  TPHC (mg GAE 100 ml-1 Juice)  \\\n",
       "0                   2.29  2.399                        223.75   \n",
       "1                   3.46  2.914                        224.38   \n",
       "2                   4.49  2.975                        234.76   \n",
       "3                   6.47  4.578                        245.08   \n",
       "4                   2.43  2.598                        228.67   \n",
       "..                   ...    ...                           ...   \n",
       "86                  4.65  2.975                        238.95   \n",
       "87                  4.58  4.548                        239.84   \n",
       "88                  4.51  2.598                        236.49   \n",
       "89                  5.72  4.248                        229.88   \n",
       "90                  4.47  2.426                        234.60   \n",
       "\n",
       "    TFC (QE mg ml -1)  \n",
       "0               0.121  \n",
       "1               0.124  \n",
       "2               0.139  \n",
       "3               0.166  \n",
       "4               0.127  \n",
       "..                ...  \n",
       "86              0.163  \n",
       "87              0.131  \n",
       "88              0.179  \n",
       "89              0.146  \n",
       "90              0.173  \n",
       "\n",
       "[91 rows x 10 columns]"
      ]
     },
     "execution_count": 94,
     "metadata": {},
     "output_type": "execute_result"
    }
   ],
   "source": [
    "data"
   ]
  },
  {
   "cell_type": "code",
   "execution_count": 95,
   "id": "543370c6",
   "metadata": {},
   "outputs": [
    {
     "data": {
      "text/plain": [
       "(91, 10)"
      ]
     },
     "execution_count": 95,
     "metadata": {},
     "output_type": "execute_result"
    }
   ],
   "source": [
    "data.shape"
   ]
  },
  {
   "cell_type": "code",
   "execution_count": 96,
   "id": "f958b518",
   "metadata": {},
   "outputs": [],
   "source": [
    "from sklearn.model_selection import train_test_split"
   ]
  },
  {
   "cell_type": "markdown",
   "id": "dceb1a07",
   "metadata": {},
   "source": [
    "# PPO Inactivation"
   ]
  },
  {
   "cell_type": "code",
   "execution_count": 97,
   "id": "e46c9e00",
   "metadata": {},
   "outputs": [],
   "source": [
    "x1=data.iloc[:,[0,1]]\n",
    "y1=data[['PPO Inactivation (%)']]"
   ]
  },
  {
   "cell_type": "code",
   "execution_count": 98,
   "id": "7f48ae6c",
   "metadata": {},
   "outputs": [],
   "source": [
    "from sklearn.model_selection import train_test_split"
   ]
  },
  {
   "cell_type": "code",
   "execution_count": 99,
   "id": "d1ef98fc",
   "metadata": {},
   "outputs": [],
   "source": [
    "x1train,x1test,y1train,y1test=train_test_split(x1,y1,test_size=0.2,random_state=42)"
   ]
  },
  {
   "cell_type": "code",
   "execution_count": 100,
   "id": "9fb72b3b",
   "metadata": {},
   "outputs": [
    {
     "name": "stdout",
     "output_type": "stream",
     "text": [
      "(72, 2)\n",
      "(72, 1)\n",
      "(19, 2)\n",
      "(19, 1)\n"
     ]
    }
   ],
   "source": [
    "print(x1train.shape)\n",
    "print(y1train.shape)\n",
    "print(x1test.shape)\n",
    "print(y1test.shape)"
   ]
  },
  {
   "cell_type": "code",
   "execution_count": 101,
   "id": "a4395c08",
   "metadata": {},
   "outputs": [],
   "source": [
    "from sklearn.ensemble import RandomForestRegressor\n",
    "from sklearn.ensemble import GradientBoostingRegressor\n",
    "from sklearn.neighbors import KNeighborsRegressor\n",
    "from sklearn.tree import DecisionTreeRegressor\n",
    "\n",
    "from sklearn import metrics\n",
    "from sklearn.metrics import r2_score\n",
    "from sklearn.metrics import mean_squared_error"
   ]
  },
  {
   "cell_type": "code",
   "execution_count": 102,
   "id": "1db1f42e",
   "metadata": {},
   "outputs": [
    {
     "name": "stderr",
     "output_type": "stream",
     "text": [
      "C:\\Users\\Yash Agarwal\\AppData\\Local\\Temp\\ipykernel_13940\\2776387253.py:6: DataConversionWarning: A column-vector y was passed when a 1d array was expected. Please change the shape of y to (n_samples,), for example using ravel().\n",
      "  model1_PPO=rf1.fit(x1train,y1train)\n",
      "C:\\Users\\Yash Agarwal\\anaconda3\\lib\\site-packages\\sklearn\\ensemble\\_gb.py:494: DataConversionWarning: A column-vector y was passed when a 1d array was expected. Please change the shape of y to (n_samples, ), for example using ravel().\n",
      "  y = column_or_1d(y, warn=True)\n"
     ]
    }
   ],
   "source": [
    "rf1=RandomForestRegressor(n_estimators=3, random_state=42)\n",
    "gbr1=GradientBoostingRegressor()\n",
    "knn1=KNeighborsRegressor()\n",
    "dt1=DecisionTreeRegressor()\n",
    "\n",
    "model1_PPO=rf1.fit(x1train,y1train)\n",
    "model2_PPO=gbr1.fit(x1train,y1train)\n",
    "model3_PPO=knn1.fit(x1train,y1train)\n",
    "model4_PPO=dt1.fit(x1train,y1train)"
   ]
  },
  {
   "cell_type": "code",
   "execution_count": 103,
   "id": "861bc10e",
   "metadata": {},
   "outputs": [],
   "source": [
    "y1pred_PPO=model1_PPO.predict(x1test)\n",
    "y2pred_PPO=model2_PPO.predict(x1test)\n",
    "y3pred_PPO=model3_PPO.predict(x1test)\n",
    "y4pred_PPO=model4_PPO.predict(x1test)\n"
   ]
  },
  {
   "cell_type": "code",
   "execution_count": 104,
   "id": "fbd59c0d",
   "metadata": {},
   "outputs": [
    {
     "name": "stdout",
     "output_type": "stream",
     "text": [
      "0.9981633312913757 0.998705907135316 0.9957135432567732 0.9987062082680078\n"
     ]
    }
   ],
   "source": [
    "r2_score1_PPO=r2_score(y1test,y1pred_PPO)\n",
    "r2_score2_PPO=r2_score(y1test,y2pred_PPO)\n",
    "r2_score3_PPO=r2_score(y1test,y3pred_PPO)\n",
    "r2_score4_PPO=r2_score(y1test,y4pred_PPO)\n",
    "\n",
    "\n",
    "print(r2_score1_PPO,r2_score2_PPO,r2_score3_PPO,r2_score4_PPO)"
   ]
  },
  {
   "cell_type": "code",
   "execution_count": 105,
   "id": "fb70ab9a",
   "metadata": {},
   "outputs": [
    {
     "name": "stdout",
     "output_type": "stream",
     "text": [
      "0.19404650847240046 0.13672264401949083 0.45286989473684014 0.13669082894736875\n"
     ]
    }
   ],
   "source": [
    "mse1_PPO=mean_squared_error(y1test,y1pred_PPO)\n",
    "mse2_PPO=mean_squared_error(y1test,y2pred_PPO)\n",
    "mse3_PPO=mean_squared_error(y1test,y3pred_PPO)\n",
    "mse4_PPO=mean_squared_error(y1test,y4pred_PPO)\n",
    "\n",
    "print(mse1_PPO, mse2_PPO, mse3_PPO, mse4_PPO)"
   ]
  },
  {
   "cell_type": "markdown",
   "id": "e9be2982",
   "metadata": {},
   "source": [
    "# POD Inactivation"
   ]
  },
  {
   "cell_type": "code",
   "execution_count": 106,
   "id": "a98e0527",
   "metadata": {},
   "outputs": [],
   "source": [
    "x2=data.iloc[:,[0,1]]\n",
    "y2=data[['POD Inactivation (%)']]"
   ]
  },
  {
   "cell_type": "code",
   "execution_count": 107,
   "id": "daebfe83",
   "metadata": {},
   "outputs": [],
   "source": [
    "x2train,x2test,y2train,y2test=train_test_split(x2,y2,test_size=0.2,random_state=42)"
   ]
  },
  {
   "cell_type": "code",
   "execution_count": 108,
   "id": "86335870",
   "metadata": {},
   "outputs": [],
   "source": [
    "from sklearn.ensemble import RandomForestRegressor\n",
    "from sklearn.ensemble import GradientBoostingRegressor\n",
    "from sklearn.neighbors import KNeighborsRegressor\n",
    "from sklearn.tree import DecisionTreeRegressor\n",
    "\n",
    "from sklearn import metrics\n",
    "from sklearn.metrics import r2_score\n",
    "from sklearn.metrics import mean_squared_error"
   ]
  },
  {
   "cell_type": "code",
   "execution_count": 109,
   "id": "4db69c84",
   "metadata": {},
   "outputs": [
    {
     "name": "stderr",
     "output_type": "stream",
     "text": [
      "C:\\Users\\Yash Agarwal\\AppData\\Local\\Temp\\ipykernel_13940\\4001613943.py:6: DataConversionWarning: A column-vector y was passed when a 1d array was expected. Please change the shape of y to (n_samples,), for example using ravel().\n",
      "  model1_POD=rf2.fit(x2train,y2train)\n",
      "C:\\Users\\Yash Agarwal\\anaconda3\\lib\\site-packages\\sklearn\\ensemble\\_gb.py:494: DataConversionWarning: A column-vector y was passed when a 1d array was expected. Please change the shape of y to (n_samples, ), for example using ravel().\n",
      "  y = column_or_1d(y, warn=True)\n"
     ]
    }
   ],
   "source": [
    "rf2=RandomForestRegressor(n_estimators=3, random_state=42)\n",
    "gbr2=GradientBoostingRegressor()\n",
    "knn2=KNeighborsRegressor()\n",
    "dt2=DecisionTreeRegressor()\n",
    "\n",
    "model1_POD=rf2.fit(x2train,y2train)\n",
    "model2_POD=gbr2.fit(x2train,y2train)\n",
    "model3_POD=knn2.fit(x2train,y2train)\n",
    "model4_POD=dt2.fit(x2train,y2train)"
   ]
  },
  {
   "cell_type": "code",
   "execution_count": 110,
   "id": "3c64b351",
   "metadata": {},
   "outputs": [],
   "source": [
    "y1pred_POD=model1_POD.predict(x2test)\n",
    "y2pred_POD=model2_POD.predict(x2test)\n",
    "y3pred_POD=model3_POD.predict(x2test)\n",
    "y4pred_POD=model4_POD.predict(x2test)\n"
   ]
  },
  {
   "cell_type": "code",
   "execution_count": 111,
   "id": "bea604db",
   "metadata": {},
   "outputs": [
    {
     "name": "stdout",
     "output_type": "stream",
     "text": [
      "0.9953140159570917 0.9962961873051622 0.9965100349614792 0.9962953930253595\n"
     ]
    }
   ],
   "source": [
    "r2_score1_POD=r2_score(y2test,y1pred_POD)\n",
    "r2_score2_POD=r2_score(y2test,y2pred_POD)\n",
    "r2_score3_POD=r2_score(y2test,y3pred_POD)\n",
    "r2_score4_POD=r2_score(y2test,y4pred_POD)\n",
    "\n",
    "\n",
    "print(r2_score1_POD,r2_score2_POD,r2_score3_POD,r2_score4_POD)"
   ]
  },
  {
   "cell_type": "code",
   "execution_count": 112,
   "id": "fe3c2169",
   "metadata": {},
   "outputs": [
    {
     "name": "stdout",
     "output_type": "stream",
     "text": [
      "0.8534962003503427 0.6746053833959246 0.6356555789473678 0.6747500520050134\n"
     ]
    }
   ],
   "source": [
    "mse1_POD=mean_squared_error(y2test,y1pred_POD)\n",
    "mse2_POD=mean_squared_error(y2test,y2pred_POD)\n",
    "mse3_POD=mean_squared_error(y2test,y3pred_POD)\n",
    "mse4_POD=mean_squared_error(y2test,y4pred_POD)\n",
    "\n",
    "print(mse1_POD, mse2_POD, mse3_POD, mse4_POD)"
   ]
  },
  {
   "cell_type": "markdown",
   "id": "dddce267",
   "metadata": {},
   "source": [
    "# YM"
   ]
  },
  {
   "cell_type": "code",
   "execution_count": 113,
   "id": "eb09c388",
   "metadata": {},
   "outputs": [],
   "source": [
    "x3=data.iloc[:,[0,1]]\n",
    "y3=data[['Yeast mould']]"
   ]
  },
  {
   "cell_type": "code",
   "execution_count": 116,
   "id": "0c88f7f0",
   "metadata": {},
   "outputs": [],
   "source": [
    "x3train,x3test,y3train,y3test=train_test_split(x3,y3,test_size=0.2,random_state=42)"
   ]
  },
  {
   "cell_type": "code",
   "execution_count": 117,
   "id": "ba684a7d",
   "metadata": {},
   "outputs": [],
   "source": [
    "from sklearn.ensemble import RandomForestRegressor\n",
    "from sklearn.ensemble import GradientBoostingRegressor\n",
    "from sklearn.neighbors import KNeighborsRegressor\n",
    "from sklearn.tree import DecisionTreeRegressor\n",
    "\n",
    "from sklearn import metrics\n",
    "from sklearn.metrics import r2_score\n",
    "from sklearn.metrics import mean_squared_error"
   ]
  },
  {
   "cell_type": "code",
   "execution_count": 118,
   "id": "ca2ba8c8",
   "metadata": {},
   "outputs": [
    {
     "name": "stderr",
     "output_type": "stream",
     "text": [
      "C:\\Users\\Yash Agarwal\\AppData\\Local\\Temp\\ipykernel_13940\\1093091954.py:6: DataConversionWarning: A column-vector y was passed when a 1d array was expected. Please change the shape of y to (n_samples,), for example using ravel().\n",
      "  model1_YM=rf3.fit(x3train,y3train)\n",
      "C:\\Users\\Yash Agarwal\\anaconda3\\lib\\site-packages\\sklearn\\ensemble\\_gb.py:494: DataConversionWarning: A column-vector y was passed when a 1d array was expected. Please change the shape of y to (n_samples, ), for example using ravel().\n",
      "  y = column_or_1d(y, warn=True)\n"
     ]
    }
   ],
   "source": [
    "rf3=RandomForestRegressor(n_estimators=3, random_state=42)\n",
    "gbr3=GradientBoostingRegressor()\n",
    "knn3=KNeighborsRegressor()\n",
    "dt3=DecisionTreeRegressor()\n",
    "\n",
    "model1_YM=rf3.fit(x3train,y3train)\n",
    "model2_YM=gbr3.fit(x3train,y3train)\n",
    "model3_YM=knn3.fit(x3train,y3train)\n",
    "model4_YM=dt3.fit(x3train,y3train)"
   ]
  },
  {
   "cell_type": "code",
   "execution_count": 119,
   "id": "1059f03e",
   "metadata": {},
   "outputs": [],
   "source": [
    "y1pred_YM=model1_YM.predict(x3test)\n",
    "y2pred_YM=model2_YM.predict(x3test)\n",
    "y3pred_YM=model3_YM.predict(x3test)\n",
    "y4pred_YM=model4_YM.predict(x3test)\n"
   ]
  },
  {
   "cell_type": "code",
   "execution_count": 120,
   "id": "201840e6",
   "metadata": {},
   "outputs": [
    {
     "name": "stdout",
     "output_type": "stream",
     "text": [
      "0.9798130647218888 0.9747481931152994 0.8966114368268349 0.974682882242443\n"
     ]
    }
   ],
   "source": [
    "r2_score1_YM=r2_score(y3test,y1pred_YM)\n",
    "r2_score2_YM=r2_score(y3test,y2pred_YM)\n",
    "r2_score3_YM=r2_score(y3test,y3pred_YM)\n",
    "r2_score4_YM=r2_score(y3test,y4pred_YM)\n",
    "\n",
    "\n",
    "print(r2_score1_YM,r2_score2_YM,r2_score3_YM,r2_score4_YM)"
   ]
  },
  {
   "cell_type": "code",
   "execution_count": 121,
   "id": "0adaeddf",
   "metadata": {},
   "outputs": [
    {
     "name": "stdout",
     "output_type": "stream",
     "text": [
      "0.014894357020199192 0.01863132872643985 0.07628231578947357 0.018679516499582303\n"
     ]
    }
   ],
   "source": [
    "mse1_YM=mean_squared_error(y3test,y1pred_YM)\n",
    "mse2_YM=mean_squared_error(y3test,y2pred_YM)\n",
    "mse3_YM=mean_squared_error(y3test,y3pred_YM)\n",
    "mse4_YM=mean_squared_error(y3test,y4pred_YM)\n",
    "\n",
    "print(mse1_YM, mse2_YM, mse3_YM, mse4_YM)"
   ]
  },
  {
   "cell_type": "markdown",
   "id": "cf5d6b86",
   "metadata": {},
   "source": [
    "# GUI"
   ]
  },
  {
   "cell_type": "code",
   "execution_count": 122,
   "id": "aa8d9422",
   "metadata": {},
   "outputs": [
    {
     "data": {
      "text/plain": [
       "['PPO']"
      ]
     },
     "execution_count": 122,
     "metadata": {},
     "output_type": "execute_result"
    }
   ],
   "source": [
    "import joblib\n",
    "joblib.dump(gbr1,\"PPO\")"
   ]
  },
  {
   "cell_type": "code",
   "execution_count": 123,
   "id": "27998dbf",
   "metadata": {},
   "outputs": [
    {
     "data": {
      "text/plain": [
       "['POD']"
      ]
     },
     "execution_count": 123,
     "metadata": {},
     "output_type": "execute_result"
    }
   ],
   "source": [
    "joblib.dump(rf2,\"POD\")"
   ]
  },
  {
   "cell_type": "code",
   "execution_count": 124,
   "id": "63cab1ad",
   "metadata": {},
   "outputs": [
    {
     "data": {
      "text/plain": [
       "['YM']"
      ]
     },
     "execution_count": 124,
     "metadata": {},
     "output_type": "execute_result"
    }
   ],
   "source": [
    "joblib.dump(dt3,\"YM\")"
   ]
  },
  {
   "cell_type": "code",
   "execution_count": 125,
   "id": "d075e2dd",
   "metadata": {},
   "outputs": [],
   "source": [
    "model1=joblib.load(\"PPO\")\n",
    "model2=joblib.load(\"POD\")\n",
    "model3=joblib.load(\"YM\")"
   ]
  },
  {
   "cell_type": "code",
   "execution_count": 126,
   "id": "f8d0be3a",
   "metadata": {},
   "outputs": [],
   "source": [
    "from tkinter import *\n",
    "from sklearn import *"
   ]
  },
  {
   "cell_type": "code",
   "execution_count": 127,
   "id": "b5213711",
   "metadata": {},
   "outputs": [
    {
     "name": "stderr",
     "output_type": "stream",
     "text": [
      "C:\\Users\\Yash Agarwal\\anaconda3\\lib\\site-packages\\sklearn\\base.py:450: UserWarning: X does not have valid feature names, but GradientBoostingRegressor was fitted with feature names\n",
      "  warnings.warn(\n",
      "C:\\Users\\Yash Agarwal\\anaconda3\\lib\\site-packages\\sklearn\\base.py:450: UserWarning: X does not have valid feature names, but RandomForestRegressor was fitted with feature names\n",
      "  warnings.warn(\n",
      "C:\\Users\\Yash Agarwal\\anaconda3\\lib\\site-packages\\sklearn\\base.py:450: UserWarning: X does not have valid feature names, but DecisionTreeRegressor was fitted with feature names\n",
      "  warnings.warn(\n"
     ]
    }
   ],
   "source": [
    "def show_entry():\n",
    "    p1=float(e1.get())\n",
    "    p2=float(e2.get())\n",
    "\n",
    "    \n",
    "    model1=joblib.load('PPO')\n",
    "    result1= model1.predict([[p1,p2]])\n",
    "    model2=joblib.load('POD')\n",
    "    result2= model2.predict([[p1,p2]])\n",
    "    model3=joblib.load('YM')\n",
    "    result3= model3.predict([[p1,p2]])\n",
    "\n",
    "    \n",
    "    Label(master,text=\"PPO (%)\").grid(row=5)\n",
    "    Label(master,text=result1).grid(row=6)\n",
    "    Label(master,text=\"POD (%)\").grid(row=7)\n",
    "    Label(master,text=result2).grid(row=8)    \n",
    "    Label(master,text=\"YM \").grid(row=9)\n",
    "    Label(master,text=result3).grid(row=10)\n",
    "\n",
    "    \n",
    "    \n",
    "master=Tk()\n",
    "master.title(\"Mousambi-Aloevera Juice Life predictor\")\n",
    "label=Label(master,text=\"Mousambi-Aloevera Juice Life predictor\", bg=\"blue\", fg=\"white\").grid(row=0,columnspan=2)\n",
    "Label(master,text=\"Enter Voltage (kV)\").grid(row=1)\n",
    "Label(master,text=\"Enter Time (min)\").grid(row=2)\n",
    "\n",
    "\n",
    "\n",
    "\n",
    "e1=Entry(master)\n",
    "e2=Entry(master)\n",
    "\n",
    "\n",
    "e1.grid(row=1,column=1)\n",
    "e2.grid(row=2,column=1)\n",
    "\n",
    "\n",
    "\n",
    "Button(master,text=\"Predict\",command=show_entry).grid()\n",
    "\n",
    "\n",
    "\n",
    "mainloop()"
   ]
  },
  {
   "cell_type": "code",
   "execution_count": null,
   "id": "d8c2ec66",
   "metadata": {},
   "outputs": [],
   "source": []
  },
  {
   "cell_type": "code",
   "execution_count": null,
   "id": "26fad199",
   "metadata": {},
   "outputs": [],
   "source": []
  },
  {
   "cell_type": "code",
   "execution_count": null,
   "id": "fbdd1f7c",
   "metadata": {},
   "outputs": [],
   "source": []
  },
  {
   "cell_type": "code",
   "execution_count": null,
   "id": "580e55fc",
   "metadata": {},
   "outputs": [],
   "source": []
  },
  {
   "cell_type": "code",
   "execution_count": null,
   "id": "5108041f",
   "metadata": {},
   "outputs": [],
   "source": []
  },
  {
   "cell_type": "code",
   "execution_count": null,
   "id": "9e846db7",
   "metadata": {},
   "outputs": [],
   "source": []
  },
  {
   "cell_type": "code",
   "execution_count": null,
   "id": "9c86477a",
   "metadata": {},
   "outputs": [],
   "source": []
  },
  {
   "cell_type": "code",
   "execution_count": null,
   "id": "9cb537ef",
   "metadata": {},
   "outputs": [],
   "source": []
  },
  {
   "cell_type": "code",
   "execution_count": null,
   "id": "95963870",
   "metadata": {},
   "outputs": [],
   "source": []
  }
 ],
 "metadata": {
  "kernelspec": {
   "display_name": "Python 3 (ipykernel)",
   "language": "python",
   "name": "python3"
  },
  "language_info": {
   "codemirror_mode": {
    "name": "ipython",
    "version": 3
   },
   "file_extension": ".py",
   "mimetype": "text/x-python",
   "name": "python",
   "nbconvert_exporter": "python",
   "pygments_lexer": "ipython3",
   "version": "3.9.12"
  }
 },
 "nbformat": 4,
 "nbformat_minor": 5
}
